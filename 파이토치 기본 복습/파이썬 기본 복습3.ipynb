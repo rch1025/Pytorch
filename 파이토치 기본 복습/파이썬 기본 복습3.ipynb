{
 "cells": [
  {
   "cell_type": "markdown",
   "id": "121ca122-5ea1-4d57-b61d-40ccc92709da",
   "metadata": {},
   "source": [
    "# Gradient를 구하는 방법"
   ]
  },
  {
   "cell_type": "markdown",
   "id": "69d0981d-4061-4189-8d84-dd4c197a5136",
   "metadata": {},
   "source": [
    "### element wise 곱셈"
   ]
  },
  {
   "cell_type": "code",
   "execution_count": 2,
   "id": "a9bdd66c-fafb-4c31-973e-0b2e119577e4",
   "metadata": {},
   "outputs": [],
   "source": [
    "import torch"
   ]
  },
  {
   "cell_type": "code",
   "execution_count": 3,
   "id": "bf68094f-0701-443d-93da-fc356efc5ab2",
   "metadata": {},
   "outputs": [
    {
     "name": "stdout",
     "output_type": "stream",
     "text": [
      "torch.Size([5, 3, 3])\n",
      "torch.Size([5])\n"
     ]
    }
   ],
   "source": [
    "A = torch.ones(5, 3, 3)\n",
    "print(A.shape)\n",
    "\n",
    "v = torch.arange(0, 5)\n",
    "print(v.shape)"
   ]
  },
  {
   "cell_type": "code",
   "execution_count": 5,
   "id": "db475442-3798-41e0-a1e5-12b86d02b599",
   "metadata": {},
   "outputs": [
    {
     "name": "stdout",
     "output_type": "stream",
     "text": [
      "torch.Size([5, 1, 1])\n"
     ]
    }
   ],
   "source": [
    "v_tensor = v.view(v.size()[0], 1, 1)\n",
    "print(v_tensor.shape)"
   ]
  },
  {
   "cell_type": "code",
   "execution_count": 8,
   "id": "37c98fc3-04f6-445c-84a7-cc8d2effb986",
   "metadata": {},
   "outputs": [
    {
     "data": {
      "text/plain": [
       "tensor([[[0., 0., 0.],\n",
       "         [0., 0., 0.],\n",
       "         [0., 0., 0.]],\n",
       "\n",
       "        [[1., 1., 1.],\n",
       "         [1., 1., 1.],\n",
       "         [1., 1., 1.]],\n",
       "\n",
       "        [[2., 2., 2.],\n",
       "         [2., 2., 2.],\n",
       "         [2., 2., 2.]],\n",
       "\n",
       "        [[3., 3., 3.],\n",
       "         [3., 3., 3.],\n",
       "         [3., 3., 3.]],\n",
       "\n",
       "        [[4., 4., 4.],\n",
       "         [4., 4., 4.],\n",
       "         [4., 4., 4.]]])"
      ]
     },
     "execution_count": 8,
     "metadata": {},
     "output_type": "execute_result"
    }
   ],
   "source": [
    "result = v_tensor*A\n",
    "result"
   ]
  },
  {
   "cell_type": "markdown",
   "id": "8245d8a8-c57e-486b-8fab-66844188497f",
   "metadata": {},
   "source": [
    "### gather 기능"
   ]
  },
  {
   "cell_type": "code",
   "execution_count": 9,
   "id": "73e5a222-4980-4d1b-a813-bfd239709537",
   "metadata": {},
   "outputs": [
    {
     "name": "stdout",
     "output_type": "stream",
     "text": [
      "tensor([1, 4, 6, 7])\n"
     ]
    }
   ],
   "source": [
    "\"\"\"torch.gather()\"\"\"\n",
    "A = torch.arange(1, 10)\n",
    "indices = torch.tensor([0, 3, 5, 6])\n",
    "print(torch.gather(A, 0, indices))"
   ]
  },
  {
   "cell_type": "code",
   "execution_count": 10,
   "id": "8e64737e-3657-487a-8b22-554f7e399178",
   "metadata": {},
   "outputs": [
    {
     "name": "stdout",
     "output_type": "stream",
     "text": [
      "tensor([[ 0,  1,  2],\n",
      "        [ 6,  7,  8],\n",
      "        [12, 13, 13],\n",
      "        [18, 19, 16],\n",
      "        [20, 20, 20]])\n"
     ]
    }
   ],
   "source": [
    "A = torch.arange(25).reshape(5,5)\n",
    "indices = torch.tensor([\n",
    "    [0, 1, 2],\n",
    "    [1, 2, 3],\n",
    "    [2, 3, 3],\n",
    "    [3, 4, 1],\n",
    "    [0, 0, 0]\n",
    "])\n",
    "\n",
    "print(torch.gather(A, 1, indices))"
   ]
  },
  {
   "cell_type": "markdown",
   "id": "b924d3f4-2cb1-4952-a560-a45c1d7ccdd3",
   "metadata": {},
   "source": [
    "### expand와 repeat 기능\n",
    "- torch에서 값을 반복시키는 대표적인 연산자\n",
    "- 먼저 expand는 특정 텐서를 반복하여 생성하며 개수가 1인 차원에만 적용하여 반복할 수 있다."
   ]
  },
  {
   "cell_type": "code",
   "execution_count": 12,
   "id": "6e74a96f-6571-40bf-b040-ddff0fe74c43",
   "metadata": {},
   "outputs": [
    {
     "data": {
      "text/plain": [
       "torch.Size([3, 1])"
      ]
     },
     "execution_count": 12,
     "metadata": {},
     "output_type": "execute_result"
    }
   ],
   "source": [
    "\"\"\"expand\"\"\"\n",
    "x = torch.tensor([[1], [2], [3]])\n",
    "x.size()"
   ]
  },
  {
   "cell_type": "code",
   "execution_count": 13,
   "id": "4d37c4e9-7e72-4cbd-a11f-5a863017db33",
   "metadata": {},
   "outputs": [
    {
     "data": {
      "text/plain": [
       "tensor([[1, 1, 1, 1],\n",
       "        [2, 2, 2, 2],\n",
       "        [3, 3, 3, 3]])"
      ]
     },
     "execution_count": 13,
     "metadata": {},
     "output_type": "execute_result"
    }
   ],
   "source": [
    "### 차원을 (3,1)에서 (3,4)로 바꾸어라\n",
    "x.expand(3, 4)"
   ]
  },
  {
   "cell_type": "code",
   "execution_count": 14,
   "id": "00854028-3869-4c21-a2cf-79a7f4815f4a",
   "metadata": {},
   "outputs": [
    {
     "data": {
      "text/plain": [
       "tensor([[1, 1, 1, 1],\n",
       "        [2, 2, 2, 2],\n",
       "        [3, 3, 3, 3]])"
      ]
     },
     "execution_count": 14,
     "metadata": {},
     "output_type": "execute_result"
    }
   ],
   "source": [
    "### 차원을 (3,1)에서 (-1,4)로 바꾸어라\n",
    "x.expand(-1, 4)"
   ]
  },
  {
   "cell_type": "code",
   "execution_count": 16,
   "id": "2893cc81-9cdc-4314-822c-dda78aa526be",
   "metadata": {},
   "outputs": [
    {
     "name": "stdout",
     "output_type": "stream",
     "text": [
      "tensor([[0.1615, 0.6714, 0.9992],\n",
      "        [0.7988, 0.9976, 0.2631]])\n",
      "torch.Size([2, 3])\n",
      "\n"
     ]
    },
    {
     "data": {
      "text/plain": [
       "tensor([[[0.1615, 0.6714, 0.9992, 0.1615, 0.6714, 0.9992],\n",
       "         [0.7988, 0.9976, 0.2631, 0.7988, 0.9976, 0.2631],\n",
       "         [0.1615, 0.6714, 0.9992, 0.1615, 0.6714, 0.9992],\n",
       "         [0.7988, 0.9976, 0.2631, 0.7988, 0.9976, 0.2631]],\n",
       "\n",
       "        [[0.1615, 0.6714, 0.9992, 0.1615, 0.6714, 0.9992],\n",
       "         [0.7988, 0.9976, 0.2631, 0.7988, 0.9976, 0.2631],\n",
       "         [0.1615, 0.6714, 0.9992, 0.1615, 0.6714, 0.9992],\n",
       "         [0.7988, 0.9976, 0.2631, 0.7988, 0.9976, 0.2631]],\n",
       "\n",
       "        [[0.1615, 0.6714, 0.9992, 0.1615, 0.6714, 0.9992],\n",
       "         [0.7988, 0.9976, 0.2631, 0.7988, 0.9976, 0.2631],\n",
       "         [0.1615, 0.6714, 0.9992, 0.1615, 0.6714, 0.9992],\n",
       "         [0.7988, 0.9976, 0.2631, 0.7988, 0.9976, 0.2631]]])"
      ]
     },
     "execution_count": 16,
     "metadata": {},
     "output_type": "execute_result"
    }
   ],
   "source": [
    "\"\"\"repeat : expand 연산은 차원이 1인 어떤 차원의 값을 원하는 사이즈 만큼 같은 값으로 채우는 반면 repeat 연산은 어떤 tensor를 완전히 반복하여 값을 채운다.\"\"\"\n",
    "x = torch.rand(2,3)\n",
    "print(x)\n",
    "print(x.size())\n",
    "print()\n",
    "\n",
    "#  (2, 3) 크기에 (3, 2, 2)로 반복을 하면 (3, 2 X 2, 3 X 2) = (3, 4, 6)이 됨을 알 수 있다.\n",
    "x.repeat(3,2,2)"
   ]
  },
  {
   "cell_type": "code",
   "execution_count": 18,
   "id": "bc88c337-5be9-47d0-a7e0-cf37b89a5b06",
   "metadata": {},
   "outputs": [
    {
     "name": "stdout",
     "output_type": "stream",
     "text": [
      "torch.Size([4, 1, 3]) \n",
      "\n",
      "\n",
      "torch.Size([4, 1, 3]) \n",
      "\n",
      "\n",
      "tensor([[[0.0000, 0.8984, 0.0991]]]) \n",
      "\n",
      "\n",
      "tensor([[[0.0000, 0.8984, 0.0991]],\n",
      "\n",
      "        [[0.0000, 0.8984, 0.0991]],\n",
      "\n",
      "        [[0.0000, 0.8984, 0.0991]],\n",
      "\n",
      "        [[0.0000, 0.8984, 0.0991]]]) \n",
      "\n",
      "\n",
      "tensor([[[0.7442, 0.8984, 0.0991]],\n",
      "\n",
      "        [[0.7442, 0.8984, 0.0991]],\n",
      "\n",
      "        [[0.7442, 0.8984, 0.0991]],\n",
      "\n",
      "        [[0.7442, 0.8984, 0.0991]]])\n"
     ]
    }
   ],
   "source": [
    "\"\"\"expand의 경우 원본 tensor를 참조하여 만들기 때문에 원본 tensor가 변경이 되면 expand의 값 또한 변경된다. \n",
    "반면 repeat은 깊은 복사로 만들어지기 때문에 원본 tensor가 변경되더라도 값 변경이 발생하지는 않는다.\"\"\"\n",
    "a = torch.rand(1, 1, 3)\n",
    "b = a.expand(4, -1, -1)\n",
    "c = a.repeat(4, 1, 1)\n",
    "\n",
    "print(b.shape,'\\n\\n')\n",
    "print(c.shape,'\\n\\n')\n",
    "\n",
    "a[0, 0, 0] = 0\n",
    "print(a,'\\n\\n')\n",
    "\n",
    "print(b,'\\n\\n')\n",
    "print(c)\n",
    "\n",
    "## 위 코드를 보면 a.expand()를 통해 생성된 b의 값이 원본 tensor인 a의 변경에 따라 같이 변경된 것을 확인할 수 있다."
   ]
  },
  {
   "cell_type": "code",
   "execution_count": null,
   "id": "39491c98-505e-4343-b29f-ffda853f9d8b",
   "metadata": {},
   "outputs": [],
   "source": []
  }
 ],
 "metadata": {
  "kernelspec": {
   "display_name": "torch-gpu",
   "language": "python",
   "name": "torch-gpu"
  },
  "language_info": {
   "codemirror_mode": {
    "name": "ipython",
    "version": 3
   },
   "file_extension": ".py",
   "mimetype": "text/x-python",
   "name": "python",
   "nbconvert_exporter": "python",
   "pygments_lexer": "ipython3",
   "version": "3.7.11"
  }
 },
 "nbformat": 4,
 "nbformat_minor": 5
}
