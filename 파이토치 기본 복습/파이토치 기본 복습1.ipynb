{
 "cells": [
  {
   "cell_type": "markdown",
   "id": "5f6618f9-0a17-48a3-91be-8bb97578b9d8",
   "metadata": {},
   "source": [
    "# 파이토치 기본 문법 및 코드\n",
    "- 아래 내용은 https://gaussian37.github.io/dl-pytorch-snippets/ 에서 참조하였습니다."
   ]
  },
  {
   "cell_type": "markdown",
   "id": "f358756d-f9fb-4ef0-85be-617225b0b77e",
   "metadata": {},
   "source": [
    "## 파이토치 기초"
   ]
  },
  {
   "cell_type": "code",
   "execution_count": 8,
   "id": "f5644ad6-0709-4da8-9b32-7af3bfc1321c",
   "metadata": {},
   "outputs": [
    {
     "data": {
      "text/plain": [
       "tensor([0, 1, 2, 3, 4, 5, 6, 7, 8])"
      ]
     },
     "execution_count": 8,
     "metadata": {},
     "output_type": "execute_result"
    }
   ],
   "source": [
    "import torch\n",
    "nums = torch.arange(9)\n",
    "nums"
   ]
  },
  {
   "cell_type": "code",
   "execution_count": 9,
   "id": "6c9a3f9a-051c-43b6-8a1f-a897a451b01f",
   "metadata": {},
   "outputs": [
    {
     "data": {
      "text/plain": [
       "torch.Size([9])"
      ]
     },
     "execution_count": 9,
     "metadata": {},
     "output_type": "execute_result"
    }
   ],
   "source": [
    "nums.shape"
   ]
  },
  {
   "cell_type": "code",
   "execution_count": 10,
   "id": "1403ca40-3282-48e6-a339-f1944d6c9f61",
   "metadata": {},
   "outputs": [
    {
     "data": {
      "text/plain": [
       "torch.Tensor"
      ]
     },
     "execution_count": 10,
     "metadata": {},
     "output_type": "execute_result"
    }
   ],
   "source": [
    "type(nums)"
   ]
  },
  {
   "cell_type": "code",
   "execution_count": 11,
   "id": "35b87538-3caa-41ac-a0d0-31875c3cd64d",
   "metadata": {},
   "outputs": [
    {
     "data": {
      "text/plain": [
       "array([0, 1, 2, 3, 4, 5, 6, 7, 8], dtype=int64)"
      ]
     },
     "execution_count": 11,
     "metadata": {},
     "output_type": "execute_result"
    }
   ],
   "source": [
    "\"\"\"텐서를 넘파이로 타입 변환\"\"\"\n",
    "nums.numpy()"
   ]
  },
  {
   "cell_type": "code",
   "execution_count": 12,
   "id": "f1c5bd42-8d54-48ca-a1cd-0209d41f19ee",
   "metadata": {},
   "outputs": [
    {
     "data": {
      "text/plain": [
       "tensor([[0, 1, 2],\n",
       "        [3, 4, 5],\n",
       "        [6, 7, 8]])"
      ]
     },
     "execution_count": 12,
     "metadata": {},
     "output_type": "execute_result"
    }
   ],
   "source": [
    "nums.reshape(3,3)"
   ]
  },
  {
   "cell_type": "code",
   "execution_count": 13,
   "id": "8caaf4e1-c2eb-497c-af4b-d471084dceba",
   "metadata": {},
   "outputs": [
    {
     "data": {
      "text/plain": [
       "tensor([[0, 1, 2],\n",
       "        [3, 4, 5],\n",
       "        [6, 7, 8]])"
      ]
     },
     "execution_count": 13,
     "metadata": {},
     "output_type": "execute_result"
    }
   ],
   "source": [
    "nums = torch.arange(9).reshape(3,3)\n",
    "nums"
   ]
  },
  {
   "cell_type": "code",
   "execution_count": 14,
   "id": "55182044-f0da-4c19-8da2-8d353bfd589b",
   "metadata": {},
   "outputs": [
    {
     "data": {
      "text/plain": [
       "tensor([[ 0,  2,  4],\n",
       "        [ 6,  8, 10],\n",
       "        [12, 14, 16]])"
      ]
     },
     "execution_count": 14,
     "metadata": {},
     "output_type": "execute_result"
    }
   ],
   "source": [
    "nums+nums"
   ]
  },
  {
   "cell_type": "markdown",
   "id": "5bdda484-1984-4010-b3aa-18d5f3cef831",
   "metadata": {},
   "source": [
    "### 텐서의 생성과 변환\n",
    "- 텐서는 각 데이터의 형태별로 정의되어 있음\n",
    "    - `torch.FloatTensor` : 32bit float point\n",
    "    - `torch.LongTensor` : 64bit signed integer\n",
    "- gpu 상에서 계산할 때에는 torch.cuda.FloatTensor를 사용 (일반적으로 Tensor는 FloatTensor를 의미)"
   ]
  },
  {
   "cell_type": "code",
   "execution_count": 16,
   "id": "5c21db27-df68-48d4-96e0-d9679c769381",
   "metadata": {},
   "outputs": [
    {
     "name": "stdout",
     "output_type": "stream",
     "text": [
      "tensor([[1., 2.],\n",
      "        [3., 4.]])\n",
      "tensor([[1., 2.],\n",
      "        [3., 4.]], device='cuda:0')\n",
      "tensor([[1., 2.],\n",
      "        [3., 4.]], dtype=torch.float64)\n"
     ]
    }
   ],
   "source": [
    "import torch\n",
    "import numpy as np\n",
    "\n",
    "\"\"\"Tensor 생성\"\"\"\n",
    "# 2차원 형태릐 list를 이용하여 텐서를 생성할 수 있습니다.\n",
    "a = torch.tensor([[1,2],[3,4.]])\n",
    "print(a, end='\\n')\n",
    "        \n",
    "    \n",
    "\"\"\"device 지정\"\"\"\n",
    "# device를 지정하면 GPU에 텐서를 만들 수 있습니다.\n",
    "b = torch.tensor([[1,2],[3,4.]], device=\"cuda:0\")\n",
    "print(b, end='\\n')\n",
    "\n",
    "\n",
    "\"\"\"dtype 지정\"\"\"\n",
    "# dtype을 이용하여 텐서의 데이터 형태를 지정할 수도 있습니다.\n",
    "c = torch.tensor([[1,2],[3,4.]], dtype=torch.float64)\n",
    "print(c, end='\\n')"
   ]
  },
  {
   "cell_type": "code",
   "execution_count": 19,
   "id": "7b5acd40-174c-491f-88b3-d08205e45b03",
   "metadata": {},
   "outputs": [
    {
     "name": "stdout",
     "output_type": "stream",
     "text": [
      "tensor([1, 2, 3, 4, 5, 6, 7, 8, 9])\n",
      "tensor([[0., 0., 0., 0., 0.],\n",
      "        [0., 0., 0., 0., 0.],\n",
      "        [0., 0., 0., 0., 0.]], device='cuda:0')\n",
      "tensor([[ 0.9150,  0.9493, -0.9375,  0.1564,  0.7713],\n",
      "        [-1.6483, -0.1843,  1.0245, -2.7374,  0.3429],\n",
      "        [-0.0270, -0.4859,  1.5201,  0.2957, -1.5923]])\n"
     ]
    },
    {
     "data": {
      "text/plain": [
       "torch.Size([3, 4])"
      ]
     },
     "execution_count": 19,
     "metadata": {},
     "output_type": "execute_result"
    }
   ],
   "source": [
    "\"\"\"torch.arange(n,m, step)\"\"\"\n",
    "## arange를 이용한 1차원 텐서\n",
    "a = torch.arange(1,10)\n",
    "print(a)\n",
    "\n",
    "\"\"\"cuda 지정\"\"\"\n",
    "## 모든 값이 0인 3x5 텐서를 작성하여 to 메소드로 gpu에 전송\n",
    "b = torch.zeros(3,5).to(\"cuda:0\")\n",
    "print(b)\n",
    "\n",
    "## normal distribution으로 3x5 텐서를 작성\n",
    "c = torch.randn(3,5)\n",
    "print(c)\n",
    "\n",
    "## 텐서의 shape은 size 메소드로 확인\n",
    "t = torch.randn(3,4)\n",
    "t.size()"
   ]
  },
  {
   "cell_type": "code",
   "execution_count": 20,
   "id": "4467c0a2-ed33-433d-bec0-f72613f0325f",
   "metadata": {},
   "outputs": [],
   "source": [
    "\"\"\"\n",
    "- 텐서는 넘파이의 ndarray를 쉽게 변환할 수 있다.\n",
    "- 단, GPU 상의 텐서는 그대로 변환할 수 없으며, cpu로 이동 후에 변환해야 한다.\n",
    "\"\"\"\n",
    "\n",
    "## 넘파이를 사용하여 ndarray로 변환\n",
    "t = torch.tensor([[1,2], [3,4.]])\n",
    "x = t.numpy()\n",
    "\n",
    "## gpu 상의 텐서는 to 메소드로 cpu의 텐서로 변환한 후 ndarray로 변환해야 한다.\n",
    "t = torch.tensor([[1,2], [3,4.]], device = \"cuda:0\")\n",
    "x = t.to(\"cpu\").numpy() # .to('cpu')"
   ]
  },
  {
   "cell_type": "code",
   "execution_count": 22,
   "id": "ff59e9fe-e3c9-4eed-b1ba-2fa03fb7ba07",
   "metadata": {},
   "outputs": [
    {
     "data": {
      "text/plain": [
       "[<matplotlib.lines.Line2D at 0x1ff54b04a88>]"
      ]
     },
     "execution_count": 22,
     "metadata": {},
     "output_type": "execute_result"
    },
    {
     "data": {
      "image/png": "[encoded data removed]",
      "text/plain": [
       "<Figure size 432x288 with 1 Axes>"
      ]
     },
     "metadata": {
      "needs_background": "light"
     },
     "output_type": "display_data"
    }
   ],
   "source": [
    "\"\"\"\n",
    "torch.linspace(시작, 끝, step)\n",
    "    - 시작과 끝을 포함하고 step의 갯수만큼 원소를 가진 등차 수열을 만든다.\n",
    "\n",
    "torch에서 바로 이런 값들을 만들면 torch 내부적으로도 사용할 수 있지만 numpy와 호환되는 라이브러리에도 사용이 가능하다.\n",
    "    - torch를 넘파이로 바꿀 수 있기 때문\n",
    "\"\"\"\n",
    "\n",
    "x = torch.linspace(0, 15, 5)\n",
    "y = torch.exp(x)\n",
    "\n",
    "## gpu 상이 아니기에 바로 넘파이로 전환 가능\n",
    "import matplotlib.pyplot as plt\n",
    "plt.plot(x.numpy(), y.numpy())"
   ]
  },
  {
   "cell_type": "markdown",
   "id": "495e3949-0b42-48bd-a94b-a56ee414a75e",
   "metadata": {},
   "source": [
    "### 텐서의 인덱스 조작\n",
    "- 여러가지 방법이 존재\n",
    "- 넘파이의 ndarray와 같이 조작하는 것 가능\n",
    "- 배열처럼 인덱스를 바로 지정 가능하고, 슬라이스, 마스크 배열을 사용할 수 있다."
   ]
  },
  {
   "cell_type": "code",
   "execution_count": 26,
   "id": "b5c7f9bd-7d2d-4ccd-b4ee-4cf343d0978d",
   "metadata": {},
   "outputs": [
    {
     "name": "stdout",
     "output_type": "stream",
     "text": [
      "tensor([[1, 2, 3],\n",
      "        [4, 5, 6]])\n",
      "\n",
      "t[0,2] : tensor(3)\n",
      "\n",
      "t[:,:2] : tensor([[1, 2],\n",
      "        [4, 5]])\n",
      "\n",
      "t[t>3] : tensor([4, 5, 6])\n",
      "\n",
      "tensor([[ 1, 10,  3],\n",
      "        [ 4, 10,  6]])\n",
      "\n",
      "tensor([[ 1, 20,  3],\n",
      "        [ 4, 20, 20]])\n",
      "\n"
     ]
    }
   ],
   "source": [
    "t = torch.tensor([\n",
    "    [1,2,3], [4,5,6]\n",
    "])\n",
    "print(t, end=\"\\n\\n\")\n",
    "\n",
    "## 인덱스 접근\n",
    "print(\"t[0,2] :\", t[0,2], end=\"\\n\\n\")\n",
    "\n",
    "## 슬라이스로 접근\n",
    "print(\"t[:,:2] :\", t[:,:2], end=\"\\n\\n\")\n",
    "\n",
    "## 마스크 배열을 이용하여 True 값만 추출\n",
    "print(\"t[t>3] :\", t[t>3], end=\"\\n\\n\")\n",
    "\n",
    "## 슬라이스를 이용하여 일괄 대입\n",
    "t[: ,1] = 10\n",
    "print(t, end=\"\\n\\n\")\n",
    "\n",
    "## 마스크 배열을 이용하여 일괄 대입\n",
    "t[t>5] = 20\n",
    "print(t, end=\"\\n\\n\")"
   ]
  },
  {
   "cell_type": "markdown",
   "id": "13f27a55-c556-4ed4-a73b-00b1f62a80df",
   "metadata": {},
   "source": [
    "-----"
   ]
  },
  {
   "cell_type": "markdown",
   "id": "18b3da40-35bd-4586-9308-f46e1fa3618f",
   "metadata": {
    "tags": []
   },
   "source": [
    "### 텐서 연산\n",
    "- 텐서 간에 타입이 다르면 연산이 되지 않는다. (FloatTensor와 DoubleTensor 간의 사칙연산을 오류가 발생한다.)\n",
    "- 스칼라 값을 연산할 때에는 기본저긍로 broadcasting이 지원된다."
   ]
  },
  {
   "cell_type": "code",
   "execution_count": 31,
   "id": "279dbfb1-c85f-4e21-874c-2235da62b82e",
   "metadata": {},
   "outputs": [
    {
     "name": "stdout",
     "output_type": "stream",
     "text": [
      "tensor([1., 2., 3.])\n",
      "tensor([ 0, 10, 20])\n",
      "\n",
      "tensor([[  0.,   1.,   2.],\n",
      "        [100., 200., 300.]])\n",
      "\n",
      "tensor([11., 12., 13.])\n",
      "\n",
      "tensor([1., 4., 9.])\n",
      "\n",
      "tensor([  1.,  -8., -17.])\n",
      "\n"
     ]
    }
   ],
   "source": [
    "## 길이 3인 벡터\n",
    "v = torch.tensor([1,2,3.])\n",
    "w = torch.tensor([0, 10, 20])\n",
    "print(v)\n",
    "print(w, end='\\n\\n')\n",
    "\n",
    "\n",
    "## 2 x 3의 행렬\n",
    "m = torch.tensor([[0, 1, 2], [100, 200, 300.]])\n",
    "print(m, end='\\n\\n')\n",
    "\n",
    "\n",
    "\"\"\"단순 상수 연산 및 두 텐서간의 단순 연산은 모두 element wise하게 이루어진다.\"\"\"\n",
    "## 벡터와 스칼라의 덧셈\n",
    "v2 = v + 10\n",
    "print(v2, end='\\n\\n')\n",
    "\n",
    "\n",
    "## 제곱\n",
    "v2 = v ** 2\n",
    "print(v2, end='\\n\\n')\n",
    "\n",
    "\n",
    "## 동일 길이의 벡터간 덧셈 연산\n",
    "z =  v - w\n",
    "print(z, end='\\n\\n')"
   ]
  },
  {
   "cell_type": "code",
   "execution_count": 35,
   "id": "e7c56ccd-71e5-4e87-bf36-18e4b7ef7d56",
   "metadata": {},
   "outputs": [
    {
     "name": "stdout",
     "output_type": "stream",
     "text": [
      "v : tensor([1., 2., 3.])\n",
      "\n",
      "w : tensor([ 0, 10, 20])\n",
      "\n",
      "m : tensor([[  0.,   1.,   2.],\n",
      "        [100., 200., 300.]])\n",
      "\n"
     ]
    }
   ],
   "source": [
    "print(\"v :\", v, end='\\n\\n')\n",
    "print(\"w :\", w, end='\\n\\n')\n",
    "print(\"m :\", m, end='\\n\\n')"
   ]
  },
  {
   "cell_type": "code",
   "execution_count": 29,
   "id": "25c899ea-883f-4910-bafb-4af10c43c858",
   "metadata": {},
   "outputs": [
    {
     "name": "stdout",
     "output_type": "stream",
     "text": [
      "tensor([ 8.,  9., 10.])\n",
      "\n",
      "tensor([[  0.,   2.,   4.],\n",
      "        [200., 400., 600.]])\n",
      "\n",
      "tensor([[  1.,   3.,   5.],\n",
      "        [101., 202., 303.]])\n",
      "\n",
      "tensor([[  0.,   2.,   4.],\n",
      "        [200., 400., 600.]])\n",
      "\n"
     ]
    }
   ],
   "source": [
    "\"\"\"여러 가지 조합\"\"\"\n",
    "u = 2 * v - w / 10 + 6.0\n",
    "print(u, end='\\n\\n')\n",
    "\n",
    "## 행렬과 스칼라 곱\n",
    "m2 = m * 2.0\n",
    "print(m2, end='\\n\\n')\n",
    "\n",
    "## (2, 3)인 행렬과 (3,)인 벡터간의 덧셈이므로 브로드캐스팅 발생\n",
    "    # (,3)인 벡터가 행렬의 각 행에 더해진다.\n",
    "m + v\n",
    "print(m + v, end='\\n\\n')\n",
    "        \n",
    "## 행렬 간 처리\n",
    "print(m + m, end='\\n\\n')"
   ]
  },
  {
   "cell_type": "markdown",
   "id": "4f407170-f8f2-4590-9b44-49a4371134f0",
   "metadata": {},
   "source": [
    "-----"
   ]
  },
  {
   "cell_type": "markdown",
   "id": "94078a54-2c9d-40b2-bcdf-0f22b566a74e",
   "metadata": {
    "tags": []
   },
   "source": [
    "### 텐서의 차원 조작\n",
    "- 텐서의 차원을 변경하는 `view`나 텐서를 결합하는 `stack`. `cat` 차원을 교환하는 `t`, `transpose`도 사용된다.\n",
    "- `view`는 넘파이의 reshape과 유사하다. (reshape 사용 권장)\n",
    "- `cat`은 다른 길이의 텐서를 하나로 묶을 때 사용\n",
    "- `transpose`는 행렬의 전치 외에도 차원의 순서를 변경할 때에도 사용"
   ]
  },
  {
   "cell_type": "code",
   "execution_count": 37,
   "id": "d27406e5-acef-4346-9f0c-9daab1bba929",
   "metadata": {},
   "outputs": [],
   "source": [
    "\"\"\"2x2 행렬 생성\"\"\"\n",
    "x1 = torch.tensor([[1, 2], [3, 4.]])\n",
    "x2 = torch.tensor([[10, 20, 30], [40, 50, 60.]])"
   ]
  },
  {
   "cell_type": "code",
   "execution_count": 39,
   "id": "e65ec932-a6f4-48b8-af1a-d60373a6058e",
   "metadata": {},
   "outputs": [
    {
     "name": "stdout",
     "output_type": "stream",
     "text": [
      "tensor([[1.],\n",
      "        [2.],\n",
      "        [3.],\n",
      "        [4.]])\n",
      "tensor([[1.],\n",
      "        [2.],\n",
      "        [3.],\n",
      "        [4.]])\n"
     ]
    }
   ],
   "source": [
    "\"\"\"view() & reshape()\"\"\"\n",
    "# 2 x 2 행렬을 4 x 1로 변형합니다.\n",
    "print(x1.view(4,1))\n",
    "\n",
    "# 2 x 2 행렬을 4 x 1로 변형합니다.\n",
    "print(x1.reshape(4,1))"
   ]
  },
  {
   "cell_type": "code",
   "execution_count": 42,
   "id": "be258961-443d-4735-9d11-f27fb80b0f7c",
   "metadata": {},
   "outputs": [
    {
     "name": "stdout",
     "output_type": "stream",
     "text": [
      "tensor([1., 2., 3., 4.])\n",
      "tensor([1., 2., 3., 4.])\n"
     ]
    }
   ],
   "source": [
    "# 2 x 2 행렬을 1차원 벡터로 변형합니다.\n",
    "print(x1.view(-1))\n",
    "# 2 x 2 행렬을 1차원 벡터로 변형합니다.\n",
    "print(x1.reshape(-1))"
   ]
  },
  {
   "cell_type": "code",
   "execution_count": 43,
   "id": "d84714e9-ad32-47c5-8733-e12d01b74591",
   "metadata": {},
   "outputs": [
    {
     "name": "stdout",
     "output_type": "stream",
     "text": [
      "tensor([[1., 2., 3., 4.]])\n",
      "tensor([[1., 2., 3., 4.]])\n"
     ]
    }
   ],
   "source": [
    "## -1을 사용하면 shape에서 자동 계산 가능한 부분에 한해서 자동으로 입력이 된다.\n",
    "print(x1.view(1, -1))\n",
    "print(x1.reshape(1, -1))"
   ]
  },
  {
   "cell_type": "code",
   "execution_count": 44,
   "id": "cfccab2b-6e15-4299-912b-577e96b38500",
   "metadata": {},
   "outputs": [
    {
     "data": {
      "text/plain": [
       "tensor([[10., 40.],\n",
       "        [20., 50.],\n",
       "        [30., 60.]])"
      ]
     },
     "execution_count": 44,
     "metadata": {},
     "output_type": "execute_result"
    }
   ],
   "source": [
    "\"\"\".t()\"\"\"\n",
    "## 2x3 행렬을 전치해서 3x2 행렬을 만든다.\n",
    "print(x2.size())\n",
    "x2.t()"
   ]
  },
  {
   "cell_type": "code",
   "execution_count": 51,
   "id": "5bd83bb8-09b6-41b4-8dee-a79b68338a64",
   "metadata": {},
   "outputs": [
    {
     "name": "stdout",
     "output_type": "stream",
     "text": [
      "tensor([[1., 2.],\n",
      "        [3., 4.]]) \n",
      " tensor([[10., 20., 30.],\n",
      "        [40., 50., 60.]]) \n",
      "\n",
      "\n",
      "torch.Size([2, 2]) torch.Size([2, 3]) \n",
      "\n",
      "\n",
      "tensor([[ 1.,  2., 10., 20., 30.],\n",
      "        [ 3.,  4., 40., 50., 60.]]) \n",
      " torch.Size([2, 5])\n"
     ]
    }
   ],
   "source": [
    "\"\"\".cat(dim=)\"\"\"\n",
    "## dim=1로 결합하면 2x5의 행렬로 묶을 수 있다.\n",
    "print(x1, '\\n',x2, '\\n\\n')\n",
    "print(x1.shape, x2.shape, '\\n\\n')\n",
    "x3 = torch.cat([x1, x2], dim=1)\n",
    "print(x3, '\\n', x3.shape)"
   ]
  },
  {
   "cell_type": "code",
   "execution_count": 52,
   "id": "f9a980d9-c7ac-4c38-85a4-e3a42ab7f17b",
   "metadata": {},
   "outputs": [
    {
     "data": {
      "text/plain": [
       "torch.Size([100, 3, 64, 32])"
      ]
     },
     "execution_count": 52,
     "metadata": {},
     "output_type": "execute_result"
    }
   ],
   "source": [
    "\"\"\".transpose()\"\"\"\n",
    "## transpose(dim0, dim1)을 사용하면 dim0의 차원과 dim1의 차원을 교환한다.\n",
    "## transpose(0, 3) 이라고 하면 0차원과 3차원을 교환한다.\n",
    "img_ = torch.rand(100, 64, 32, 3)\n",
    "t_img_ = img_.transpose(1,2).transpose(1,3) # 1차원과 2차원을 바꾼 뒤, 1차원과 3차원을 바꾼다.\n",
    "t_img_.size()"
   ]
  },
  {
   "cell_type": "markdown",
   "id": "2bfe8e19-2843-4f00-bafd-66e76f011f08",
   "metadata": {},
   "source": [
    "----"
   ]
  },
  {
   "cell_type": "markdown",
   "id": "b87bc4a7-bb77-49d6-b17d-00044f4e6e60",
   "metadata": {},
   "source": [
    "### Tensor 생성\n",
    "- 텐서를 생성할 때 대표적으로 사용하는 함수가 `rand`, `zeros`, `ones`이다.\n",
    "- 이 때, 첫 인자는 dimension이다.\n",
    "- 각 dimension은 tuple 형태로 묶어서 지정해 주어도 되고, 콤마 형태로 풀어서 지정해 주어도 된다.\n",
    "- 예를 들어 torch.rand((2,3)), torch.rnad(2,3) 모두 같은 shape인 (2,3)을 가진다."
   ]
  },
  {
   "cell_type": "code",
   "execution_count": 53,
   "id": "a1e95935-11e2-4ee9-94f0-5358fc3ca3c1",
   "metadata": {},
   "outputs": [
    {
     "name": "stdout",
     "output_type": "stream",
     "text": [
      "tensor([[0.9128, 0.0847, 0.8567],\n",
      "        [0.0782, 0.9895, 0.7783]])\n"
     ]
    }
   ],
   "source": [
    "\"\"\"랜덤 넘버 생성\"\"\"\n",
    "import torch\n",
    "x = torch.rand(2,3)\n",
    "print(x)"
   ]
  },
  {
   "cell_type": "code",
   "execution_count": 55,
   "id": "4679abeb-f4bb-4d13-961b-10c98a1ee009",
   "metadata": {},
   "outputs": [
    {
     "data": {
      "text/plain": [
       "tensor([6, 4, 8, 7, 5, 3, 2, 9, 1, 0])"
      ]
     },
     "execution_count": 55,
     "metadata": {},
     "output_type": "execute_result"
    }
   ],
   "source": [
    "torch.torch.randperm(10)"
   ]
  },
  {
   "cell_type": "code",
   "execution_count": 58,
   "id": "7dbcaaff-02bb-4982-92ae-2ccd36f76ba0",
   "metadata": {},
   "outputs": [
    {
     "name": "stdout",
     "output_type": "stream",
     "text": [
      "tensor([[0., 0., 0.],\n",
      "        [0., 0., 0.]]) \n",
      "\n",
      "\n"
     ]
    },
    {
     "data": {
      "text/plain": [
       "tensor([[0., 0., 0.],\n",
       "        [0., 0., 0.]])"
      ]
     },
     "execution_count": 58,
     "metadata": {},
     "output_type": "execute_result"
    }
   ],
   "source": [
    "\"\"\" torch.zeros(dim) & torch.zeros_like() : 모든 값이 0인 zeros tensor \"\"\"\n",
    "zeros = torch.zeros(2,3)\n",
    "print(zeros, '\\n\\n')\n",
    "\n",
    "\n",
    "torch.zeros_like(zeros)"
   ]
  },
  {
   "cell_type": "code",
   "execution_count": 59,
   "id": "fb7c0c33-16f9-4c6b-990b-fb6db1aa2251",
   "metadata": {},
   "outputs": [
    {
     "data": {
      "text/plain": [
       "tensor([[1., 1., 1.],\n",
       "        [1., 1., 1.]])"
      ]
     },
     "execution_count": 59,
     "metadata": {},
     "output_type": "execute_result"
    }
   ],
   "source": [
    "\"\"\"torch.ones(dim) : 모든 값이 1인 텐서\"\"\"\n",
    "torch.ones(2,3)"
   ]
  },
  {
   "cell_type": "code",
   "execution_count": 60,
   "id": "338b9866-8f8d-4444-8517-d3ae6a8b78bd",
   "metadata": {},
   "outputs": [
    {
     "data": {
      "text/plain": [
       "tensor([0.0000, 0.5000, 1.0000, 1.5000, 2.0000, 2.5000])"
      ]
     },
     "execution_count": 60,
     "metadata": {},
     "output_type": "execute_result"
    }
   ],
   "source": [
    "\"\"\"torch.arange(시작, 끝, step) : np.arange()와 같음\"\"\"\n",
    "torch.arange(0, 3, step=0.5)"
   ]
  },
  {
   "cell_type": "markdown",
   "id": "86dc6e75-3dff-4bd2-abb5-51bf9b207beb",
   "metadata": {},
   "source": [
    "-----"
   ]
  },
  {
   "cell_type": "markdown",
   "id": "997f8ab1-1748-4fc0-ae70-abaf73a9a974",
   "metadata": {},
   "source": [
    "### Tensor 데이터 타입"
   ]
  },
  {
   "cell_type": "code",
   "execution_count": 61,
   "id": "4a84ebbf-afef-4ac4-8942-82742a5fafb2",
   "metadata": {},
   "outputs": [
    {
     "data": {
      "text/plain": [
       "tensor([[1., 2., 3.],\n",
       "        [4., 0., 0.]], device='cuda:0')"
      ]
     },
     "execution_count": 61,
     "metadata": {},
     "output_type": "execute_result"
    }
   ],
   "source": [
    "\"\"\"Float 타입의 m행 n열 Tensor 생성하기\"\"\"\n",
    "## 2행 3열의 Float 타입의 Tensor 생성하기\n",
    "torch.cuda.FloatTensor(2,3) # device가 설정된 상태로 텐서 생성"
   ]
  },
  {
   "cell_type": "code",
   "execution_count": 62,
   "id": "7941caf4-3338-4ae6-9f91-96bec3ca92be",
   "metadata": {},
   "outputs": [
    {
     "data": {
      "text/plain": [
       "tensor([2., 3.], device='cuda:0')"
      ]
     },
     "execution_count": 62,
     "metadata": {},
     "output_type": "execute_result"
    }
   ],
   "source": [
    "\"\"\"리스트를 입력하여 특정 리스트를 Tensor로 변환\"\"\"\n",
    "torch.cuda.FloatTensor([2,3])"
   ]
  },
  {
   "cell_type": "code",
   "execution_count": 63,
   "id": "80a0d5b6-a203-462b-832c-1c3ad3c36090",
   "metadata": {},
   "outputs": [
    {
     "data": {
      "text/plain": [
       "tensor([2, 3], device='cuda:0', dtype=torch.int32)"
      ]
     },
     "execution_count": 63,
     "metadata": {},
     "output_type": "execute_result"
    }
   ],
   "source": [
    "\"\"\"Float 타입을 Int 타입으로 형변환 (device는 그대로 유지)\"\"\"\n",
    "x = torch.cuda.FloatTensor([2,3])\n",
    "x.type_as(torch.cuda.IntTensor())"
   ]
  },
  {
   "cell_type": "markdown",
   "id": "ef0feec4-aa0c-4394-a8fe-ecc2b2e544a4",
   "metadata": {},
   "source": [
    "---"
   ]
  },
  {
   "cell_type": "markdown",
   "id": "d475ec44-0afb-42e4-b90f-f1aa40089759",
   "metadata": {},
   "source": [
    "### Numpy to Tensor 또는 Tensor to Numpy\n",
    "- 넘파이를 생성한 후 Tensor로 변환한 후 다시 Numpy로 변환해 보고, 추가적으로 변환하는 방법도 알아본다."
   ]
  },
  {
   "cell_type": "code",
   "execution_count": 69,
   "id": "e7316879-ae52-48c3-bbce-702979c8edb0",
   "metadata": {},
   "outputs": [
    {
     "name": "stdout",
     "output_type": "stream",
     "text": [
      "x1: [[1 2 3]\n",
      " [4 5 6]] <class 'numpy.ndarray'> \n",
      "\n",
      "x3: tensor([[1, 2, 3],\n",
      "        [4, 5, 6]], dtype=torch.int32) <class 'torch.Tensor'>\n",
      "[[1 2 3]\n",
      " [4 5 6]]\n",
      "tensor([[1., 2., 3.],\n",
      "        [4., 5., 6.]])\n"
     ]
    }
   ],
   "source": [
    "import numpy as np\n",
    "x1 = np.ndarray(shape=(2,3), dtype = int, buffer=np.array([1,2,3,4,5,6]))\n",
    "print('x1:', x1, type(x1), '\\n')\n",
    "\n",
    "\"\"\"Numpy to Tensor\"\"\"\n",
    "x3 = torch.from_numpy(x1)\n",
    "print('x3:', x3, type(x3))\n",
    "\n",
    "\n",
    "\"\"\"Tensor to Numpy\"\"\"\n",
    "x2 = torch.from_numpy(x1)\n",
    "print(x2.numpy())\n",
    "\n",
    "print(x2.float())"
   ]
  },
  {
   "cell_type": "markdown",
   "id": "7ba71cec-bf83-4a28-98bb-85730fdd2981",
   "metadata": {},
   "source": [
    "------"
   ]
  },
  {
   "cell_type": "markdown",
   "id": "303217f3-2dd2-459a-9832-58a13e6e26c9",
   "metadata": {},
   "source": [
    "### CPU 타입과 GPU 타입의 Tensor\n",
    "- 딥러닝 프레임워크에서는 cpu와 gpu 두 타입에 대한 Tensor 생성이 가능하다.\n",
    "- 파이토치에서는 어떻게 사용할 수 있는지 알아본다."
   ]
  },
  {
   "cell_type": "code",
   "execution_count": 70,
   "id": "614b9f5c-e645-4d1c-991b-79bdec13f8bf",
   "metadata": {},
   "outputs": [
    {
     "name": "stdout",
     "output_type": "stream",
     "text": [
      "tensor([[1., 2., 3.],\n",
      "        [4., 5., 6.]], device='cuda:0')\n"
     ]
    }
   ],
   "source": [
    "\"\"\"아래의 3개 방법은 모두 같다. (이 외에도 텐서 생성시 device에서 바로 지정 가능)\"\"\"\n",
    "\n",
    "\"\"\".cuda() : gpu에 올리기\"\"\"\n",
    "x = torch.FloatTensor([[1,2,3],[4,5,6]])\n",
    "x_gpu = x.cuda()\n",
    "print(x_gpu)"
   ]
  },
  {
   "cell_type": "code",
   "execution_count": 71,
   "id": "b3a71cdc-b722-4f3f-a197-b30006c86d21",
   "metadata": {},
   "outputs": [
    {
     "name": "stdout",
     "output_type": "stream",
     "text": [
      "tensor([[1., 2., 3.],\n",
      "        [4., 5., 6.]], device='cuda:0')\n"
     ]
    }
   ],
   "source": [
    "\"\"\"device 정의 후 .to(device) : gpu에 올리기\"\"\"\n",
    "device = torch.device(\"cuda\" if torch.cuda.is_available() else \"cpu\")\n",
    "x = torch.FloatTensor([[1,2,3],[4,5,6]])\n",
    "x_gpu = x.to(device)\n",
    "print(x_gpu)"
   ]
  },
  {
   "cell_type": "code",
   "execution_count": 73,
   "id": "755a0246-1e38-4ed6-9722-5cac81599857",
   "metadata": {},
   "outputs": [
    {
     "name": "stdout",
     "output_type": "stream",
     "text": [
      "tensor([[1., 2., 3.],\n",
      "        [4., 5., 6.]], device='cuda:0')\n"
     ]
    }
   ],
   "source": [
    "\"\"\".to(\"cuda:0\") : gpu에 올리기\"\"\"\n",
    "x = torch.FloatTensor([[1,2,3],[4,5,6]])\n",
    "x_gpu = x.to(\"cuda:0\")\n",
    "print(x_gpu)"
   ]
  },
  {
   "cell_type": "code",
   "execution_count": 72,
   "id": "d5058016-06c4-4346-b535-dd51f589056a",
   "metadata": {},
   "outputs": [
    {
     "data": {
      "text/plain": [
       "tensor([[1., 2., 3.],\n",
       "        [4., 5., 6.]])"
      ]
     },
     "execution_count": 72,
     "metadata": {},
     "output_type": "execute_result"
    }
   ],
   "source": [
    "\"\"\"cpu 변환\"\"\"\n",
    "x_cpu = x_gpu.cpu()\n",
    "x_cpu"
   ]
  },
  {
   "cell_type": "markdown",
   "id": "f85b0274-3a4e-4210-b4e5-a61d5eee23ba",
   "metadata": {},
   "source": [
    "----"
   ]
  },
  {
   "cell_type": "markdown",
   "id": "c633037e-afda-4c0c-9553-e4ca1c4ea5f5",
   "metadata": {},
   "source": [
    "### Index(슬라이싱) 기능 사용\n",
    "- 인덱스 또는 슬라이싱 기법은 텐서에서 특정 값만 조회하는 것을 의미"
   ]
  },
  {
   "cell_type": "code",
   "execution_count": 74,
   "id": "8dc22ac7-7180-4141-a46c-1e603c235487",
   "metadata": {},
   "outputs": [
    {
     "data": {
      "text/plain": [
       "tensor([[0.6079, 0.3770, 0.2698],\n",
       "        [0.8859, 0.3414, 0.3776]])"
      ]
     },
     "execution_count": 74,
     "metadata": {},
     "output_type": "execute_result"
    }
   ],
   "source": [
    "\"\"\"\n",
    "아래의 방법은 자주 사용하지는 않는다.\n",
    "\n",
    "torch.index_select(input, dim, index) : torch에서 제공하는 인덱싱 방법\n",
    "\"\"\"\n",
    "\n",
    "x = torch.rand(4,3)\n",
    "\n",
    "torch.index_select(x,0,torch.LongTensor([0,2])) # 3번째 인자에는 torch.LongTensor를 이용하여 인덱스를 입력해 줍니다."
   ]
  },
  {
   "cell_type": "code",
   "execution_count": 75,
   "id": "7ec21010-0751-420f-990d-b99fcdfc47d5",
   "metadata": {},
   "outputs": [
    {
     "name": "stdout",
     "output_type": "stream",
     "text": [
      "tensor([[0.6079, 0.3770, 0.2698],\n",
      "        [0.6857, 0.3781, 0.3689],\n",
      "        [0.8859, 0.3414, 0.3776],\n",
      "        [0.1869, 0.0880, 0.0417]])\n"
     ]
    },
    {
     "data": {
      "text/plain": [
       "tensor([[0.6079, 0.3770],\n",
       "        [0.6857, 0.3781]])"
      ]
     },
     "execution_count": 75,
     "metadata": {},
     "output_type": "execute_result"
    }
   ],
   "source": [
    "\"\"\"일반적인 인덱싱과 슬라이싱\"\"\"\n",
    "print(x)\n",
    "\n",
    "x[:, 0]\n",
    "\n",
    "x[0, :]\n",
    "\n",
    "x[0:2, 0:2]"
   ]
  },
  {
   "cell_type": "code",
   "execution_count": null,
   "id": "8994ca2d-ac6e-4822-a34e-378d1c2b7fc5",
   "metadata": {},
   "outputs": [],
   "source": [
    "\"\"\"이번에는 mask 기능을 통하여 인덱싱 하는 방법에 대해서 살펴본다.\"\"\"\n",
    "x = torch.randn(2,3)\n",
    "\n",
    "## mask는 0,1 값을 가지고 ByteTensor를 이용하여 생성합니다.\n",
    "# (0,3)과 (1,1) 데이터 인덱싱\n",
    "mask = torch.ByteTensor([[0,0,1],[0,1,0]])\n",
    "torch.masked_select(x,mask)"
   ]
  }
 ],
 "metadata": {
  "kernelspec": {
   "display_name": "torch-gpu",
   "language": "python",
   "name": "torch-gpu"
  },
  "language_info": {
   "codemirror_mode": {
    "name": "ipython",
    "version": 3
   },
   "file_extension": ".py",
   "mimetype": "text/x-python",
   "name": "python",
   "nbconvert_exporter": "python",
   "pygments_lexer": "ipython3",
   "version": "3.7.11"
  }
 },
 "nbformat": 4,
 "nbformat_minor": 5
}
