{
 "cells": [
  {
   "cell_type": "markdown",
   "id": "f5dbf139-ce0f-4831-be9b-d46c38d31f52",
   "metadata": {},
   "source": [
    "# Dataset과 Dataloader\n",
    "- 코드의 더 나은 가독성과 모듈성을 위해 데이터셋 코드를 모델 학습 코드로부터 분리하는 것이 이상적이다.\n",
    "- 파이토치는 `torch.utils.data.DataLoader`와 `torch.utils.data.Dataset`의 두 가지 데이터 기본 요소를 제공하여 미리 준비된 데이터셋 뿐만 아니라 가지고 있는 데이터를 사용할 수 있도록 한다.\n",
    "- `Dataset`은 샘플과 정답(label)을 저장하고, DataLoader는 Dataset을 샘플에 쉽게 접근할 수 있도록 순회 가능한 객체(iterable)로 감싼다."
   ]
  },
  {
   "cell_type": "markdown",
   "id": "92f544c9-8879-4509-a171-d92e29800338",
   "metadata": {},
   "source": [
    "### 데이터셋 불러오기\n",
    "- root는 학습/테스트 데이터가 저장되는 경로\n",
    "- train은 학습용 또는 테스트용 데이터셋 여부를 지정\n",
    "- download=True는 root에 데이터가 없는 경우 인터넷에서 다운로드\n",
    "- transform과 target_transform은 특징(feature)과 변형(transform)을 지정"
   ]
  },
  {
   "cell_type": "code",
   "execution_count": 1,
   "id": "30d9361f-eb5a-45e2-a5b5-0ed12981d23d",
   "metadata": {},
   "outputs": [],
   "source": [
    "import torch\n",
    "from torch.utils.data import Dataset\n",
    "from torchvision import datasets\n",
    "from torchvision.transforms import ToTensor\n",
    "import matplotlib.pyplot as plt"
   ]
  },
  {
   "cell_type": "code",
   "execution_count": 2,
   "id": "11314c16-b53c-4512-9c27-9553fc733cc4",
   "metadata": {},
   "outputs": [
    {
     "name": "stdout",
     "output_type": "stream",
     "text": [
      "Downloading http://fashion-mnist.s3-website.eu-central-1.amazonaws.com/train-images-idx3-ubyte.gz\n",
      "Downloading http://fashion-mnist.s3-website.eu-central-1.amazonaws.com/train-images-idx3-ubyte.gz to data\\FashionMNIST\\raw\\train-images-idx3-ubyte.gz\n"
     ]
    },
    {
     "data": {
      "application/vnd.jupyter.widget-view+json": {
       "model_id": "33a5fdc291a24aae83c606ba51a821de",
       "version_major": 2,
       "version_minor": 0
      },
      "text/plain": [
       "  0%|          | 0/26421880 [00:00<?, ?it/s]"
      ]
     },
     "metadata": {},
     "output_type": "display_data"
    },
    {
     "name": "stdout",
     "output_type": "stream",
     "text": [
      "Extracting data\\FashionMNIST\\raw\\train-images-idx3-ubyte.gz to data\\FashionMNIST\\raw\n",
      "\n",
      "Downloading http://fashion-mnist.s3-website.eu-central-1.amazonaws.com/train-labels-idx1-ubyte.gz\n",
      "Downloading http://fashion-mnist.s3-website.eu-central-1.amazonaws.com/train-labels-idx1-ubyte.gz to data\\FashionMNIST\\raw\\train-labels-idx1-ubyte.gz\n"
     ]
    },
    {
     "data": {
      "application/vnd.jupyter.widget-view+json": {
       "model_id": "fc235ea37e45490089b3689c28d790b5",
       "version_major": 2,
       "version_minor": 0
      },
      "text/plain": [
       "  0%|          | 0/29515 [00:00<?, ?it/s]"
      ]
     },
     "metadata": {},
     "output_type": "display_data"
    },
    {
     "name": "stdout",
     "output_type": "stream",
     "text": [
      "Extracting data\\FashionMNIST\\raw\\train-labels-idx1-ubyte.gz to data\\FashionMNIST\\raw\n",
      "\n",
      "Downloading http://fashion-mnist.s3-website.eu-central-1.amazonaws.com/t10k-images-idx3-ubyte.gz\n",
      "Downloading http://fashion-mnist.s3-website.eu-central-1.amazonaws.com/t10k-images-idx3-ubyte.gz to data\\FashionMNIST\\raw\\t10k-images-idx3-ubyte.gz\n"
     ]
    },
    {
     "data": {
      "application/vnd.jupyter.widget-view+json": {
       "model_id": "afef897d73364737b450fbbb414efea6",
       "version_major": 2,
       "version_minor": 0
      },
      "text/plain": [
       "  0%|          | 0/4422102 [00:00<?, ?it/s]"
      ]
     },
     "metadata": {},
     "output_type": "display_data"
    },
    {
     "name": "stdout",
     "output_type": "stream",
     "text": [
      "Extracting data\\FashionMNIST\\raw\\t10k-images-idx3-ubyte.gz to data\\FashionMNIST\\raw\n",
      "\n",
      "Downloading http://fashion-mnist.s3-website.eu-central-1.amazonaws.com/t10k-labels-idx1-ubyte.gz\n",
      "Downloading http://fashion-mnist.s3-website.eu-central-1.amazonaws.com/t10k-labels-idx1-ubyte.gz to data\\FashionMNIST\\raw\\t10k-labels-idx1-ubyte.gz\n"
     ]
    },
    {
     "data": {
      "application/vnd.jupyter.widget-view+json": {
       "model_id": "ac4cc55e0cf54af198054b5c7b097930",
       "version_major": 2,
       "version_minor": 0
      },
      "text/plain": [
       "  0%|          | 0/5148 [00:00<?, ?it/s]"
      ]
     },
     "metadata": {},
     "output_type": "display_data"
    },
    {
     "name": "stdout",
     "output_type": "stream",
     "text": [
      "Extracting data\\FashionMNIST\\raw\\t10k-labels-idx1-ubyte.gz to data\\FashionMNIST\\raw\n",
      "\n",
      "Processing...\n"
     ]
    },
    {
     "name": "stderr",
     "output_type": "stream",
     "text": [
      "C:\\Users\\RohSeungChan\\Anaconda3\\envs\\torch-gpu\\lib\\site-packages\\torchvision\\datasets\\mnist.py:502: UserWarning: The given NumPy array is not writeable, and PyTorch does not support non-writeable tensors. This means you can write to the underlying (supposedly non-writeable) NumPy array using the tensor. You may want to copy the array to protect its data or make it writeable before converting it to a tensor. This type of warning will be suppressed for the rest of this program. (Triggered internally at  ..\\torch\\csrc\\utils\\tensor_numpy.cpp:143.)\n",
      "  return torch.from_numpy(parsed.astype(m[2], copy=False)).view(*s)\n"
     ]
    },
    {
     "name": "stdout",
     "output_type": "stream",
     "text": [
      "Done!\n"
     ]
    }
   ],
   "source": [
    "\"\"\"FashionMNIST 데이터 불러오기 예제\"\"\"\n",
    "training_data = datasets.FashionMNIST(\n",
    "root = \"data\",\n",
    "train = True,\n",
    "download = True,\n",
    "transform = ToTensor()\n",
    ")\n",
    "\n",
    "test_data = datasets.FashionMNIST(\n",
    "root = \"data\",\n",
    "train = False,\n",
    "download = True,\n",
    "transform = ToTensor()\n",
    ")"
   ]
  },
  {
   "cell_type": "markdown",
   "id": "797a58eb-2ce6-407d-9ff4-a0ad0f749b42",
   "metadata": {},
   "source": [
    "----"
   ]
  },
  {
   "cell_type": "markdown",
   "id": "4af18e90-06e6-42e3-a5de-17eee743875e",
   "metadata": {},
   "source": [
    "### 데이터셋을 순회하고 시각화하기\n",
    "- Dataset에 리스트처럼 직접 접근(index)할 수 있다. training_data[index].matplotlib을 사용하여 학습 데이터의 일부를 시각화한다."
   ]
  },
  {
   "cell_type": "code",
   "execution_count": 3,
   "id": "81c70c2e-87d1-4c11-b672-6dce6ae94b44",
   "metadata": {},
   "outputs": [],
   "source": [
    "labels_map = {\n",
    "    0: \"T-Shirt\",\n",
    "    1: \"Trouser\",\n",
    "    2: \"Pullover\",\n",
    "    3: \"Dress\",\n",
    "    4: \"Coat\",\n",
    "    5: \"Sandal\",\n",
    "    6: \"Shirt\",\n",
    "    7: \"Sneaker\",\n",
    "    8: \"Bag\",\n",
    "    9: \"Ankle Boot\",\n",
    "}"
   ]
  },
  {
   "cell_type": "code",
   "execution_count": 27,
   "id": "e583c485-4b54-4adc-930a-85c155478453",
   "metadata": {},
   "outputs": [
    {
     "name": "stdout",
     "output_type": "stream",
     "text": [
      "3 3 1\n",
      "3 3 2\n",
      "3 3 3\n",
      "3 3 4\n",
      "3 3 5\n",
      "3 3 6\n",
      "3 3 7\n",
      "3 3 8\n",
      "3 3 9\n"
     ]
    },
    {
     "data": {
      "image/png": "[encoded data removed]",
      "text/plain": [
       "<Figure size 432x432 with 9 Axes>"
      ]
     },
     "metadata": {
      "needs_background": "light"
     },
     "output_type": "display_data"
    }
   ],
   "source": [
    "figure = plt.figure(figsize=(6, 6))\n",
    "cols, rows = 3, 3\n",
    "for i in range(1, cols * rows + 1):\n",
    "    sample_idx = torch.randint(len(training_data), size=(1,)).item() # 60000개 중에서 size를 1로 하여 뽑기\n",
    "    img, label = training_data[sample_idx]\n",
    "    print(rows, cols, i)\n",
    "    figure.add_subplot(rows, cols, i) # 3x3 행렬에서 i번째 요소를 선택\n",
    "    plt.title(labels_map[label])\n",
    "    plt.axis(\"off\")\n",
    "    plt.imshow(img.squeeze(), cmap=\"gray\") # 0번째 차원을 줄여줌\n",
    "plt.show()"
   ]
  },
  {
   "cell_type": "code",
   "execution_count": 17,
   "id": "098e54ef-d3a9-4266-8951-05474c56fa31",
   "metadata": {},
   "outputs": [
    {
     "data": {
      "text/plain": [
       "tensor([3, 4, 3])"
      ]
     },
     "execution_count": 17,
     "metadata": {},
     "output_type": "execute_result"
    }
   ],
   "source": [
    "# 튜플 size 3으로 하여 3~5 사이의 숫자를 뽑으라\n",
    "torch.randint(3, 5, (3,))"
   ]
  },
  {
   "cell_type": "code",
   "execution_count": 26,
   "id": "6885ef48-d85d-4a10-9f79-321346456c01",
   "metadata": {},
   "outputs": [
    {
     "data": {
      "text/plain": [
       "tensor([[7, 2],\n",
       "        [5, 6]])"
      ]
     },
     "execution_count": 26,
     "metadata": {},
     "output_type": "execute_result"
    }
   ],
   "source": [
    "# 튜플 size (2,2)로 하여 0~10까지의 수를 뽑으라\n",
    "torch.randint(10, (2, 2))"
   ]
  },
  {
   "cell_type": "code",
   "execution_count": 31,
   "id": "d9e828b2-7bd8-4040-8956-38ce2d4ec66d",
   "metadata": {},
   "outputs": [
    {
     "data": {
      "text/plain": [
       "<matplotlib.image.AxesImage at 0x24e1105fb48>"
      ]
     },
     "execution_count": 31,
     "metadata": {},
     "output_type": "execute_result"
    },
    {
     "data": {
      "image/png": "[encoded data removed]",
      "text/plain": [
       "<Figure size 432x288 with 1 Axes>"
      ]
     },
     "metadata": {
      "needs_background": "light"
     },
     "output_type": "display_data"
    }
   ],
   "source": [
    "img, label = training_data[0]\n",
    "plt.imshow(img.squeeze())"
   ]
  },
  {
   "cell_type": "code",
   "execution_count": 33,
   "id": "712ae2c0-6ee0-413d-b54d-e3fa53cef540",
   "metadata": {},
   "outputs": [
    {
     "data": {
      "text/plain": [
       "torch.Size([28, 28])"
      ]
     },
     "execution_count": 33,
     "metadata": {},
     "output_type": "execute_result"
    }
   ],
   "source": [
    "print(img.size())\n",
    "\n",
    "print(img.squeeze().size())"
   ]
  },
  {
   "cell_type": "markdown",
   "id": "445a5e8d-9627-4d1f-b862-bd6b5702aeb1",
   "metadata": {},
   "source": [
    "-------"
   ]
  },
  {
   "cell_type": "markdown",
   "id": "080b2ad2-73dc-4531-a3b9-104fa3b9233d",
   "metadata": {},
   "source": [
    "### 파일에서 사용자 정의 데이터셋 만들기\n",
    "- 사용자 정의 Dataset 클래스는 반드시 3개 함수를 구현해야 합니다: __init__, __len__, and __getitem__. 아래 구현을 살펴보면 FashionMNIST 이미지들은 img_dir 디렉토리에 저장되고, 정답은 annotations_file csv 파일에 별도로 저장됩니다."
   ]
  },
  {
   "cell_type": "code",
   "execution_count": null,
   "id": "af104731-fd20-4f49-8b32-ecc2ff0764f2",
   "metadata": {},
   "outputs": [],
   "source": [
    "import os\n",
    "import pandas as pd\n",
    "from torchvision.io import read_image\n",
    "\n",
    "class CustomImageDataset(Dataset):\n",
    "    \"\"\"__init__함수는 Dataset 객체가 생성될 때 한 번만 실행된다. 이미지 주석 파일(annotation file)이 포함된 디렉토리와 두가지 변형(transform)을 초기화한다.\"\"\"\n",
    "    def __init__(self, annotations_file, img_dir, transform=None, target_transform=None):\n",
    "        # img_labels는 정답 csv 파일을 의미한다.\n",
    "        self.img_labels = pd.read_csv(annotations_file, names=['file_name', 'label'])\n",
    "        self.img_dir = img_dir\n",
    "        self.transform = transform\n",
    "        self.target_transform = target_transform\n",
    "    \n",
    "    \"\"\"__len__함수는 데이터셋의 샘플 개수를 반환한다.\"\"\"\n",
    "    def __len__(self):\n",
    "        return len(self.img_labels)\n",
    "\n",
    "    \"\"\"__getitem__함수는 주어진 인덱스 idx에 해당하는 샘플을 데이터셋에서 불러오고 반환한다. 인덱스를 기반으로 디스크에서 이미지의 위치를 식별하고, `read_image`를 사용하여 이미지를 텐서로 변환하고, \n",
    "    self.img_labels의 csv 데이터로부터 해당하는 정답(label)을 가져오고, (해당하는 경우) 변형(transform)함수들을 호출한 뒤, 텐서 이미지와 라벨을 python 사전형으로 반환한다.\n",
    "    \"\"\"\n",
    "    def __getitem__(self, idx):\n",
    "        ## 경로와 파일명을 결합하거나 분할된 경로를 하나로 정리하는 것이 가능 -> 이 경우 self.img_dir과 self.img_labels를 결합\n",
    "        img_path = os.path.join(self.img_dir, self.img_labels.iloc[idx, 0])\n",
    "        image = read_image(img_path)\n",
    "        label = self.img_labels.iloc[idx, 1]\n",
    "        \n",
    "        ## 위의 매개변수에서 transform을 True로 했다면 실행\n",
    "        if self.transform:\n",
    "            image = self.transform(image)\n",
    "        if self.target_transform:\n",
    "            label = self.target_transform(label)\n",
    "            \n",
    "        ## 데이터를 사전형으로 반환\n",
    "        sample = {\"image\": image, \"label\": label}\n",
    "        return sample"
   ]
  },
  {
   "cell_type": "code",
   "execution_count": 39,
   "id": "edae3a17-a802-4463-a3ff-591d77220627",
   "metadata": {},
   "outputs": [
    {
     "data": {
      "text/plain": [
       "'C:/Users\\\\user'"
      ]
     },
     "execution_count": 39,
     "metadata": {},
     "output_type": "execute_result"
    }
   ],
   "source": [
    "## os.path.join 예시\n",
    "import os\n",
    "list_path = ['C:/', 'Users', 'user'] \n",
    "folder_path = os.path.join(*list_path)\n",
    "folder_path"
   ]
  },
  {
   "cell_type": "code",
   "execution_count": 40,
   "id": "0af96fcc-a939-4ea7-a0a6-2352af534c4f",
   "metadata": {},
   "outputs": [
    {
     "name": "stdout",
     "output_type": "stream",
     "text": [
      "join(): C:\\Users\\RohSeungChan\\Desktop\\sps. Lab\\연구\\file.py\n"
     ]
    }
   ],
   "source": [
    "import os \n",
    "print(\"join(): \" + os.path.join(os.getcwd(), \"file.py\"))"
   ]
  },
  {
   "cell_type": "markdown",
   "id": "cae50d30-07d3-45ca-9e46-b200c54c0587",
   "metadata": {},
   "source": [
    "---------"
   ]
  },
  {
   "cell_type": "markdown",
   "id": "c7ff1e38-3481-4dad-ba1e-eefa8c8047e2",
   "metadata": {},
   "source": [
    "### DataLoader로 학습용 데이터 준비하기\n",
    "- Dataset은 데이터셋의 특징(feature)을 가져오고 하나의 샘플에 정답을 지정하는 일을 한 번에 합니다. 모델을 학습할 때, 일반적으로 샘플들을 minibatch로 전달하고,\n",
    "- 매 에폭(epoch)마다 데이터를 다시 섞어서 과적합(overfit)을 막고, Python의 multiprocessing을 사용하여 데이터 검색 속도를 높이려고 한다."
   ]
  },
  {
   "cell_type": "code",
   "execution_count": 42,
   "id": "c47af600-0dd5-49eb-a0d2-b8e19dd56e43",
   "metadata": {},
   "outputs": [],
   "source": [
    "from torch.utils.data import DataLoader\n",
    "\n",
    "train_dataloader = DataLoader(training_data, batch_size=64, shuffle=True)\n",
    "test_dataloader = DataLoader(test_data, batch_size=64, shuffle=True)"
   ]
  },
  {
   "cell_type": "markdown",
   "id": "706dfc70-37de-439c-980d-2f25cdee0bf0",
   "metadata": {
    "tags": []
   },
   "source": [
    "### DataLoader를 통해 순회하기 (iterate)\n",
    "- DataLoader에 데이터셋을 불러온 뒤에는 필요에 따라 데이터셋을 순회(iterate)할 수 있습니다. \n",
    "- 아래의 각 순회(iteration)는 각각 batch_size=64의 특징(feature)과 정답(label)을 포함하는 train_features와 train_labels의 묶음(batch)을 반환한다. \n",
    "- shuffle=True로 지정했으므로, 모든 배치를 순회한 뒤 데이터가 섞입니다."
   ]
  },
  {
   "cell_type": "code",
   "execution_count": 43,
   "id": "2f5d9d35-424c-4985-8a2b-81ab6114f265",
   "metadata": {},
   "outputs": [
    {
     "name": "stdout",
     "output_type": "stream",
     "text": [
      "Feature batch shape: torch.Size([64, 1, 28, 28])\n",
      "Labels batch shape: torch.Size([64])\n"
     ]
    }
   ],
   "source": [
    "train_features, train_labels = next(iter(train_dataloader))\n",
    "print(f\"Feature batch shape: {train_features.size()}\")\n",
    "print(f\"Labels batch shape: {train_labels.size()}\")"
   ]
  },
  {
   "cell_type": "code",
   "execution_count": 44,
   "id": "0d2b68c3-a9f4-4318-93cf-5f200991eb1d",
   "metadata": {},
   "outputs": [
    {
     "data": {
      "image/png": "[encoded data removed]",
      "text/plain": [
       "<Figure size 432x288 with 1 Axes>"
      ]
     },
     "metadata": {
      "needs_background": "light"
     },
     "output_type": "display_data"
    },
    {
     "name": "stdout",
     "output_type": "stream",
     "text": [
      "Label: 9\n"
     ]
    }
   ],
   "source": [
    "## 0번째 차\n",
    "img = train_features[0].squeeze()\n",
    "label = train_labels[0]\n",
    "plt.imshow(img, cmap=\"gray\")\n",
    "plt.show()\n",
    "print(f\"Label: {label}\")"
   ]
  },
  {
   "cell_type": "markdown",
   "id": "a8b7a7f2-8491-4183-b79d-88e8f9681abd",
   "metadata": {},
   "source": [
    "-----"
   ]
  },
  {
   "cell_type": "markdown",
   "id": "309e19d9-49e0-4799-9148-13156114073b",
   "metadata": {},
   "source": [
    "# 변형 (TRANSFORM)\n",
    "- 데이터가 항상 머신러닝 알고리즘 학습에 필요한 최종 처리가 된 형태로 제공되지는 않는다. -> transform은 데이터를 조작하고 학습에 적합하게 만든다.\n",
    "- torchvision.transforms 모듈은 주로 사용하는 몇가지 변형(transform)을 제공한다.\n",
    "- 학습을 할 때 유용하게 하기 위해 정규화(normalize)된 텐서 형태의 특징(feature)과 원핫(one-hot)으로 부호화(encode)된 텐서 형태의 정답(label)이 필요하다.\n",
    "- 이러한 변형을 하귀 위해 `ToTensor`와 `Lambda`를 사용한다."
   ]
  },
  {
   "cell_type": "code",
   "execution_count": 48,
   "id": "1431f3aa-f0a7-4227-9c50-26164522b46f",
   "metadata": {},
   "outputs": [],
   "source": [
    "import torch\n",
    "from torchvision import datasets\n",
    "from torchvision.transforms import ToTensor, Lambda\n",
    "\n",
    "ds = datasets.FashionMNIST(\n",
    "    root=\"data\",\n",
    "    train=True,\n",
    "    download=False, # 이미 다운로드가 되어있기 때문에 False로 지정\n",
    "    transform=ToTensor(), # 텐서형태로 다운로드\n",
    "    target_transform=Lambda(lambda y: torch.zeros(10, dtype=torch.float).scatter_(0, torch.tensor(y), value=1)) # 원핫인코딩으로 변환\n",
    ")"
   ]
  },
  {
   "cell_type": "code",
   "execution_count": 57,
   "id": "103c590a-9424-4416-83bd-238ae3902644",
   "metadata": {},
   "outputs": [
    {
     "name": "stdout",
     "output_type": "stream",
     "text": [
      "tensor([0., 0., 0., 0., 0., 0., 0., 0., 0., 1.])\n"
     ]
    }
   ],
   "source": [
    "img, label = ds[0]\n",
    "img.shape\n",
    "# 원핫인코딩 형식으로 변환된 것을 알 수 있다.\n",
    "print(label)"
   ]
  },
  {
   "cell_type": "code",
   "execution_count": 58,
   "id": "a267972f-0f79-4265-a435-ac699dd14004",
   "metadata": {},
   "outputs": [
    {
     "data": {
      "text/plain": [
       "tensor([0., 0., 0., 0., 0., 0., 0., 0., 0., 0.])"
      ]
     },
     "execution_count": 58,
     "metadata": {},
     "output_type": "execute_result"
    }
   ],
   "source": [
    "torch.zeros(10, dtype=torch.float)"
   ]
  },
  {
   "cell_type": "code",
   "execution_count": null,
   "id": "d6aeb479-b133-4c6e-8a39-2e5372fc379e",
   "metadata": {},
   "outputs": [],
   "source": [
    "## scatter_(dim, index, src, reduce = None)\n",
    "# tensor.scatter_() 형태로 동작하며, 파라미터로 주어진 \"index\"에 맞게 \"src\"의 값을 새로운 \"tensor\"로 할당\n",
    "src = torch.arange(1, 11).reshape((2, 5))\n",
    "src\n",
    "# tensor([[ 1,  2,  3,  4,  5],\n",
    "#         [ 6,  7,  8,  9, 10]])\n",
    "index = torch.tensor([[0, 1, 2, 0]])\n",
    "torch.zeros(3, 5, dtype=src.dtype).scatter_(0, index, src)\n",
    "#tensor([[1, 0, 0, 4, 0],\n",
    "#        [0, 2, 0, 0, 0],\n",
    "#        [0, 0, 3, 0, 0]])"
   ]
  }
 ],
 "metadata": {
  "kernelspec": {
   "display_name": "torch-gpu",
   "language": "python",
   "name": "torch-gpu"
  },
  "language_info": {
   "codemirror_mode": {
    "name": "ipython",
    "version": 3
   },
   "file_extension": ".py",
   "mimetype": "text/x-python",
   "name": "python",
   "nbconvert_exporter": "python",
   "pygments_lexer": "ipython3",
   "version": "3.7.11"
  }
 },
 "nbformat": 4,
 "nbformat_minor": 5
}
